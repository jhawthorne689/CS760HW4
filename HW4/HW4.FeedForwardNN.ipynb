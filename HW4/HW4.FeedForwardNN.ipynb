{
 "cells": [
  {
   "cell_type": "markdown",
   "id": "75284aeb",
   "metadata": {},
   "source": [
    "## I ran into some software installation problems that I was struggling to fix, so there isn't much of this that I was able to do in time."
   ]
  },
  {
   "cell_type": "code",
   "execution_count": 1,
   "id": "f0629ffb",
   "metadata": {},
   "outputs": [],
   "source": [
    "import numpy as np\n",
    "import pandas as pd\n",
    "import matplotlib.pyplot as plt\n",
    "from pathlib import Path\n",
    "import random\n",
    "import torch\n",
    "import torchvision.datasets as datasets\n",
    "import scipy\n"
   ]
  },
  {
   "cell_type": "code",
   "execution_count": 3,
   "id": "d507d242",
   "metadata": {},
   "outputs": [
    {
     "name": "stdout",
     "output_type": "stream",
     "text": [
      "Downloading http://yann.lecun.com/exdb/mnist/train-images-idx3-ubyte.gz\n",
      "Downloading http://yann.lecun.com/exdb/mnist/train-images-idx3-ubyte.gz to ./MNIST_data/MNIST/raw/train-images-idx3-ubyte.gz\n"
     ]
    },
    {
     "name": "stderr",
     "output_type": "stream",
     "text": [
      "100%|███████████████████████████| 9912422/9912422 [00:00<00:00, 18285301.79it/s]\n"
     ]
    },
    {
     "name": "stdout",
     "output_type": "stream",
     "text": [
      "Extracting ./MNIST_data/MNIST/raw/train-images-idx3-ubyte.gz to ./MNIST_data/MNIST/raw\n",
      "\n",
      "Downloading http://yann.lecun.com/exdb/mnist/train-labels-idx1-ubyte.gz\n",
      "Downloading http://yann.lecun.com/exdb/mnist/train-labels-idx1-ubyte.gz to ./MNIST_data/MNIST/raw/train-labels-idx1-ubyte.gz\n"
     ]
    },
    {
     "name": "stderr",
     "output_type": "stream",
     "text": [
      "100%|███████████████████████████████| 28881/28881 [00:00<00:00, 21111135.21it/s]\n"
     ]
    },
    {
     "name": "stdout",
     "output_type": "stream",
     "text": [
      "Extracting ./MNIST_data/MNIST/raw/train-labels-idx1-ubyte.gz to ./MNIST_data/MNIST/raw\n",
      "\n",
      "Downloading http://yann.lecun.com/exdb/mnist/t10k-images-idx3-ubyte.gz\n",
      "Downloading http://yann.lecun.com/exdb/mnist/t10k-images-idx3-ubyte.gz to ./MNIST_data/MNIST/raw/t10k-images-idx3-ubyte.gz\n"
     ]
    },
    {
     "name": "stderr",
     "output_type": "stream",
     "text": [
      "100%|████████████████████████████| 1648877/1648877 [00:00<00:00, 6294870.91it/s]\n"
     ]
    },
    {
     "name": "stdout",
     "output_type": "stream",
     "text": [
      "Extracting ./MNIST_data/MNIST/raw/t10k-images-idx3-ubyte.gz to ./MNIST_data/MNIST/raw\n",
      "\n",
      "Downloading http://yann.lecun.com/exdb/mnist/t10k-labels-idx1-ubyte.gz\n",
      "Downloading http://yann.lecun.com/exdb/mnist/t10k-labels-idx1-ubyte.gz to ./MNIST_data/MNIST/raw/t10k-labels-idx1-ubyte.gz\n"
     ]
    },
    {
     "name": "stderr",
     "output_type": "stream",
     "text": [
      "100%|██████████████████████████████████| 4542/4542 [00:00<00:00, 3998012.33it/s]"
     ]
    },
    {
     "name": "stdout",
     "output_type": "stream",
     "text": [
      "Extracting ./MNIST_data/MNIST/raw/t10k-labels-idx1-ubyte.gz to ./MNIST_data/MNIST/raw\n",
      "\n"
     ]
    },
    {
     "name": "stderr",
     "output_type": "stream",
     "text": [
      "\n"
     ]
    }
   ],
   "source": [
    "mnist_trainset = datasets.MNIST(root='./MNIST_data', train=True, download=True, transform=None)\n",
    "mnist_testset = datasets.MNIST(root='./MNIST_data', train=False, download=True, transform=None)\n"
   ]
  },
  {
   "cell_type": "code",
   "execution_count": 77,
   "id": "f51eaf7f",
   "metadata": {},
   "outputs": [
    {
     "data": {
      "text/plain": [
       "(<PIL.Image.Image image mode=L size=28x28 at 0x7F82B1A303D0>, 4)"
      ]
     },
     "execution_count": 77,
     "metadata": {},
     "output_type": "execute_result"
    }
   ],
   "source": [
    "mnist_trainset[33426]\n"
   ]
  },
  {
   "cell_type": "code",
   "execution_count": 71,
   "id": "f68b2dd3",
   "metadata": {},
   "outputs": [],
   "source": [
    "\n",
    "# TRAINING:\n",
    "# shuffle through training images,\n",
    "# reshape to 781 X 1 vector input.\n",
    "# Initialize weights (gaussian)\n",
    "# compute loss function for each points\n",
    "# compute gradient for that point\n",
    "# update weights\n",
    "\n"
   ]
  },
  {
   "cell_type": "code",
   "execution_count": null,
   "id": "ff7816fb",
   "metadata": {},
   "outputs": [],
   "source": [
    "def Train(TrainingSet, LearningRate, Epochs, W1, W2, W3):\n",
    "    \n",
    "    log_softmax = torch.nn.Softmax(dim = 1)\n",
    "    \n",
    "    for epoch in Epochs:\n",
    "        for i in range(len(TrainingSet)):\n",
    "            x = torch.reshape(TrainingSet[i][0], (1,784))\n",
    "            x1 = torch.sigmoid(torch.matmul(x, W1))\n",
    "            x2 = torch.sigmoid(torch.matmul(x1,W2))\n",
    "            y_hat = log_softmax(torch.matmul(x2,W3))\n",
    "            Loss = -1*y_hat[TrainingSet[i][1]]\n",
    "#           -1*torch.sum(TrainingSet[i][1]*y_hat)\n",
    "            \n",
    "            "
   ]
  },
  {
   "cell_type": "code",
   "execution_count": null,
   "id": "f7d3064d",
   "metadata": {},
   "outputs": [],
   "source": [
    "def UpdateWeights():\n",
    "    pass"
   ]
  },
  {
   "cell_type": "code",
   "execution_count": 3,
   "id": "f3fad1f8",
   "metadata": {},
   "outputs": [
    {
     "data": {
      "text/plain": [
       "tensor([[-0.3450,  0.4845,  0.6976,  ..., -0.1667,  0.7494,  0.4272],\n",
       "        [-1.5239,  0.3228, -0.0256,  ...,  1.3976,  0.8027, -0.7781],\n",
       "        [ 0.2674, -0.6134, -0.0870,  ..., -0.5484, -1.2196,  0.6618],\n",
       "        ...,\n",
       "        [ 0.0375,  0.4429, -0.1458,  ...,  0.1587,  0.0730,  0.6804],\n",
       "        [-1.0778, -0.5875, -1.0598,  ..., -0.9150, -0.9983, -0.9036],\n",
       "        [-0.4043, -1.3610,  1.1925,  ...,  1.4834, -1.5107, -0.5756]])"
      ]
     },
     "execution_count": 3,
     "metadata": {},
     "output_type": "execute_result"
    }
   ],
   "source": [
    "# use first pass weight intialization as all zeros\n",
    "# x = torch.zeros(1,784)\n",
    "weights1 = torch.randn(784,300)\n",
    "weights2 = torch.randn(300,200)\n",
    "weights3 = torch.randn(200,10)\n",
    "# torch.matmul(weights2, weights3)\n",
    "# len(weights1)\n",
    "# torch.matmul(x,weights1).shape\n",
    "weights3"
   ]
  },
  {
   "cell_type": "code",
   "execution_count": 53,
   "id": "7b7467fd",
   "metadata": {},
   "outputs": [
    {
     "data": {
      "text/plain": [
       "tensor([[ 1.7699,  0.8489,  0.0099, -1.2067, -1.2578]])"
      ]
     },
     "execution_count": 53,
     "metadata": {},
     "output_type": "execute_result"
    }
   ],
   "source": [
    "tensor1 = torch.randn(1,5)\n",
    "\n",
    "# log_softmax(tensor1)\n",
    "tensor1"
   ]
  },
  {
   "cell_type": "code",
   "execution_count": 54,
   "id": "d4e56b55",
   "metadata": {},
   "outputs": [
    {
     "data": {
      "text/plain": [
       "tensor([[0.5990, 0.2385, 0.1030, 0.0305, 0.0290]])"
      ]
     },
     "execution_count": 54,
     "metadata": {},
     "output_type": "execute_result"
    }
   ],
   "source": [
    "log_softmax(tensor1)"
   ]
  },
  {
   "cell_type": "code",
   "execution_count": 69,
   "id": "3fd79ea1",
   "metadata": {},
   "outputs": [
    {
     "data": {
      "text/plain": [
       "tensor([[  1,   2],\n",
       "        [  3,   4],\n",
       "        [  5, 100]])"
      ]
     },
     "execution_count": 69,
     "metadata": {},
     "output_type": "execute_result"
    }
   ],
   "source": [
    "x = torch.tensor([1,2,3,4,5,100])\n",
    "x = torch.reshape(x,(3,2))\n",
    "x"
   ]
  },
  {
   "cell_type": "code",
   "execution_count": 70,
   "id": "83209909",
   "metadata": {},
   "outputs": [
    {
     "data": {
      "text/plain": [
       "tensor([[0.7311, 0.8808, 0.9526, 0.9820, 0.9933, 1.0000]])"
      ]
     },
     "execution_count": 70,
     "metadata": {},
     "output_type": "execute_result"
    }
   ],
   "source": [
    "x = torch.reshape(x,(1,6))\n",
    "torch.sigmoid(x)"
   ]
  },
  {
   "cell_type": "markdown",
   "id": "f9ff5316",
   "metadata": {},
   "source": [
    "# Using the packages"
   ]
  },
  {
   "cell_type": "code",
   "execution_count": null,
   "id": "89903c5c",
   "metadata": {},
   "outputs": [],
   "source": []
  }
 ],
 "metadata": {
  "kernelspec": {
   "display_name": "Python 3 (ipykernel)",
   "language": "python",
   "name": "python3"
  },
  "language_info": {
   "codemirror_mode": {
    "name": "ipython",
    "version": 3
   },
   "file_extension": ".py",
   "mimetype": "text/x-python",
   "name": "python",
   "nbconvert_exporter": "python",
   "pygments_lexer": "ipython3",
   "version": "3.9.16"
  }
 },
 "nbformat": 4,
 "nbformat_minor": 5
}
